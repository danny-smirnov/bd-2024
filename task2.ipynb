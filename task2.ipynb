{
 "cells": [
  {
   "cell_type": "code",
   "execution_count": 41,
   "id": "0f368c13-c445-4eaa-afd8-6175095e1551",
   "metadata": {},
   "outputs": [
    {
     "data": {
      "application/vnd.jupyter.widget-view+json": {
       "model_id": "bd14bbed3e5748da9c8a1a9b974c3478",
       "version_major": 2,
       "version_minor": 0
      },
      "text/plain": [
       "  0%|          | 0/50000 [00:00<?, ?it/s]"
      ]
     },
     "metadata": {},
     "output_type": "display_data"
    }
   ],
   "source": [
    "import os\n",
    "import random\n",
    "import struct\n",
    "\n",
    "def generate_number():\n",
    "    random_number = random.randint(0, 2**32-1)\n",
    "    return random_number\n",
    "\n",
    "def generate_file(n=100, path='./', name='numbers', rm=False):\n",
    "    file_path = os.path.join(path, name)\n",
    "\n",
    "    if rm and os.path.exists(file_path):\n",
    "        os.remove(file_path)\n",
    "\n",
    "    with open(file_path, 'a') as f:\n",
    "        for _ in range(n):\n",
    "            next_number = generate_number()\n",
    "            f.write(f'{next_number}\\n')\n",
    "\n",
    "generate_file(n=50000, rm=True)"
   ]
  },
  {
   "cell_type": "markdown",
   "id": "10f18cc0-4e16-4c9e-a089-4ac62a8e86e4",
   "metadata": {},
   "source": [
    "# Sequential reading"
   ]
  },
  {
   "cell_type": "code",
   "execution_count": 60,
   "id": "9ad6d7be-9d7c-4416-b97d-3ef7b95614d7",
   "metadata": {},
   "outputs": [
    {
     "name": "stdout",
     "output_type": "stream",
     "text": [
      "CPU times: user 9.75 s, sys: 11.2 ms, total: 9.76 s\n",
      "Wall time: 9.85 s\n"
     ]
    }
   ],
   "source": [
    "%%time\n",
    "def num_prime_factors(number):\n",
    "    factors = 0\n",
    "    while number != 1:\n",
    "        # iterate until num**1/2 cause first factor is always prime\n",
    "        have_factor = False\n",
    "        for factor in range(2, int(number**(1/2) + 1)):\n",
    "            if number % factor == 0:\n",
    "                number = number // factor\n",
    "                factors += 1\n",
    "                have_factor = True\n",
    "                break\n",
    "        if not have_factor:\n",
    "            factors += 1\n",
    "            number //= number\n",
    "    return factors\n",
    "\n",
    "\n",
    "        \n",
    "\n",
    "def sequential_reading(file_path, n):\n",
    "    prime_factors = 0\n",
    "    with open(file_path, 'r') as f:\n",
    "        for _ in range(n):\n",
    "            number = f.readline()\n",
    "            prime_factors += num_prime_factors(int(number))\n",
    "\n",
    "    return prime_factors\n",
    "\n",
    "\n",
    "n = 50000\n",
    "file_path = './numbers'\n",
    "\n",
    "prime_factors = sequential_reading(file_path, n)"
   ]
  },
  {
   "cell_type": "code",
   "execution_count": 61,
   "id": "9f605f04-198f-4a69-a3cf-f22404fdb5c8",
   "metadata": {},
   "outputs": [
    {
     "data": {
      "text/plain": [
       "204877"
      ]
     },
     "execution_count": 61,
     "metadata": {},
     "output_type": "execute_result"
    }
   ],
   "source": [
    "prime_factors"
   ]
  },
  {
   "cell_type": "markdown",
   "id": "d88f2c7e-4b89-46d5-b74e-fb9e9a47aaba",
   "metadata": {},
   "source": [
    "# Multiprocessing"
   ]
  },
  {
   "cell_type": "code",
   "execution_count": 62,
   "id": "5270e543-e7ad-41f0-97a4-f302b7b5af53",
   "metadata": {},
   "outputs": [
    {
     "name": "stdout",
     "output_type": "stream",
     "text": [
      "CPU times: user 22.5 ms, sys: 27.6 ms, total: 50.2 ms\n",
      "Wall time: 1.35 s\n"
     ]
    }
   ],
   "source": [
    "%%time \n",
    "\n",
    "# multiprocess is fork of multiprocessing lib that works in iPython \n",
    "import multiprocess\n",
    "import struct \n",
    "import os\n",
    "\n",
    "\n",
    "def worker(numbers, result_queue):\n",
    "    # print(len(numbers))\n",
    "    # This time all numbers are stored in list\n",
    "    prime_factors = 0\n",
    "    for number in numbers:\n",
    "        prime_factors += num_prime_factors(number)\n",
    "\n",
    "    result_queue.put(prime_factors)\n",
    "\n",
    "\n",
    "def spawn_workers(file_path, num_workers, n):\n",
    "    all_numbers = []\n",
    "    with open(file_path, 'r') as f:\n",
    "        all_numbers = [int(x) for x in f.read().split()]\n",
    "\n",
    "    nums_per_worker = n // num_workers\n",
    "    \n",
    "    result_queue = multiprocess.Queue()\n",
    "\n",
    "    processes = []\n",
    "    for i in range(num_workers):\n",
    "\n",
    "        p = multiprocess.Process(target=worker, args=(all_numbers[i * nums_per_worker : (i+1) * nums_per_worker], result_queue))\n",
    "\n",
    "        processes.append(p)\n",
    "        p.start()\n",
    "\n",
    "    total_prime_factors = 0\n",
    "    for _ in range(num_workers):\n",
    "        total_prime_factors += result_queue.get()\n",
    "    return total_prime_factors\n",
    "    \n",
    "\n",
    "n = 50000\n",
    "prime_factors = spawn_workers('./numbers', 10, n)"
   ]
  },
  {
   "cell_type": "code",
   "execution_count": 63,
   "id": "1753ebe5-ec4d-4b95-b3ce-def940ac3e37",
   "metadata": {},
   "outputs": [
    {
     "data": {
      "text/plain": [
       "204877"
      ]
     },
     "execution_count": 63,
     "metadata": {},
     "output_type": "execute_result"
    }
   ],
   "source": [
    "prime_factors"
   ]
  },
  {
   "cell_type": "markdown",
   "id": "c03ad140-b6f0-4498-be06-a40333894fe3",
   "metadata": {},
   "source": [
    "# Dask"
   ]
  },
  {
   "cell_type": "code",
   "execution_count": 107,
   "id": "0b3db10e-1ec6-407d-bbdb-5d83ee2a8073",
   "metadata": {},
   "outputs": [
    {
     "name": "stdout",
     "output_type": "stream",
     "text": [
      "CPU times: user 195 ms, sys: 106 ms, total: 301 ms\n",
      "Wall time: 2.24 s\n"
     ]
    }
   ],
   "source": [
    "%%time\n",
    "\n",
    "import dask.dataframe as dd\n",
    "from dask.distributed import Client\n",
    "import pandas as pd\n",
    "\n",
    "# client = Client()\n",
    "pandas_df = pd.read_csv('./numbers', names=['num'])\n",
    "df = dd.from_pandas(pandas_df, npartitions=10)\n",
    "\n",
    "prime_factors = df['num'].map(num_prime_factors, meta=('num', 'int64')).sum().compute()\n"
   ]
  },
  {
   "cell_type": "code",
   "execution_count": 108,
   "id": "25a4f341-d6af-4eca-8671-0a8c565946d2",
   "metadata": {},
   "outputs": [
    {
     "data": {
      "text/plain": [
       "204877"
      ]
     },
     "execution_count": 108,
     "metadata": {},
     "output_type": "execute_result"
    }
   ],
   "source": [
    "prime_factors"
   ]
  }
 ],
 "metadata": {
  "kernelspec": {
   "display_name": "Python 3 (ipykernel)",
   "language": "python",
   "name": "python3"
  },
  "language_info": {
   "codemirror_mode": {
    "name": "ipython",
    "version": 3
   },
   "file_extension": ".py",
   "mimetype": "text/x-python",
   "name": "python",
   "nbconvert_exporter": "python",
   "pygments_lexer": "ipython3",
   "version": "3.11.7"
  }
 },
 "nbformat": 4,
 "nbformat_minor": 5
}
