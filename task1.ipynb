{
 "cells": [
  {
   "cell_type": "markdown",
   "id": "bffc87fd-ead4-4cd6-9f90-b3eeed679429",
   "metadata": {},
   "source": [
    "# Task 1"
   ]
  },
  {
   "cell_type": "markdown",
   "id": "3c826220-289b-4884-81ea-323d09543734",
   "metadata": {},
   "source": [
    "Нужно написать две программы: Первая создает бинарный файл (min 2Гб), состоящий из случайных 32-разрядных беззнаковых целых чисел (big endian). Вторая считает сумму этих чисел (с применением длинной арифметики), находит минимальное и максимальное число.\n",
    "\n",
    "Реализуйте две версии -\n",
    "\n",
    "Простое последовательное чтение \\\n",
    "Многопоточная + memory-mapped files. Сравните время работы."
   ]
  },
  {
   "cell_type": "markdown",
   "id": "a4445c67-d822-4fd2-97f9-79f12c027a3b",
   "metadata": {},
   "source": [
    "# File generation\n",
    "\n",
    "Файлы с числами в формате big endian (4 байта информации). \\\n",
    "Чтобы размер файла был больше 2гб, необходимо 2 * 1024 * 1024 * 1024 / 4 == 536870912 чисел\n"
   ]
  },
  {
   "cell_type": "code",
   "execution_count": 5,
   "id": "26ddccc2-2175-4050-b8ba-f2acd4e1f1fa",
   "metadata": {},
   "outputs": [
    {
     "name": "stderr",
     "output_type": "stream",
     "text": [
      "100%|████████████████████████| 536870912/536870912 [04:43<00:00, 1896075.03it/s]\n"
     ]
    }
   ],
   "source": [
    "import os\n",
    "import random\n",
    "from tqdm.notebook import tqdm\n",
    "import struct\n",
    "\n",
    "def generate_number():\n",
    "    random_number = random.randint(0, 2**32-1)\n",
    "    big_endian_bytes = struct.pack('>I', random_number)\n",
    "    return big_endian_bytes\n",
    "\n",
    "def generate_file(n=100, path='./', name='numbers', rm=False):\n",
    "    file_path = os.path.join(path, name)\n",
    "\n",
    "    if rm and os.path.exists(file_path):\n",
    "        os.remove(file_path)\n",
    "\n",
    "    with open(file_path, 'ab') as f:\n",
    "        for _ in tqdm(range(n)):\n",
    "            next_number = generate_number()\n",
    "            f.write(next_number)\n",
    "\n",
    "generate_file(n=536870912, rm=True)"
   ]
  },
  {
   "cell_type": "code",
   "execution_count": null,
   "id": "40e6f1d6-a120-4d65-a0a2-49256d64323b",
   "metadata": {},
   "outputs": [],
   "source": [
    "%%time\n",
    "def read_bigendian_file(file_name):\n",
    "    with open(file_name, 'rb') as f:\n",
    "        while byte := f.read(4):\n",
    "            yield int.from_bytes(byte, byteorder='big')\n",
    "\n",
    "def sequential_reading(file_name, total):\n",
    "\n",
    "    overall_sum = 0\n",
    "    overall_max = -1\n",
    "    overall_min = 2**32\n",
    "\n",
    "    for number in read_bigendian_file(file_name):\n",
    "\n",
    "        overall_sum += number\n",
    "        overall_max = max(overall_max, number)\n",
    "        overall_min = min(overall_min, number)\n",
    "\n",
    "    return overall_sum, overall_max, overall_min\n",
    "\n",
    "\n",
    "n = 536870912\n",
    "overall_sum, overall_max, overall_min = sequential_reading('./numbers', n)"
   ]
  },
  {
   "cell_type": "code",
   "execution_count": 12,
   "id": "1a39c593-bb7e-40e8-8bad-ce36fea957a7",
   "metadata": {},
   "outputs": [
    {
     "name": "stdout",
     "output_type": "stream",
     "text": [
      "1152955616060133737 4294967295 5\n"
     ]
    }
   ],
   "source": [
    "print(overall_sum, overall_max, overall_min)"
   ]
  },
  {
   "cell_type": "code",
   "execution_count": 9,
   "id": "6da86f3a-62c9-4db3-9eb3-fb69e2d037b7",
   "metadata": {},
   "outputs": [
    {
     "name": "stdout",
     "output_type": "stream",
     "text": [
      "CPU times: user 5.88 ms, sys: 24.7 ms, total: 30.6 ms\n",
      "Wall time: 20.4 s\n"
     ]
    }
   ],
   "source": [
    "%%time \n",
    "\n",
    "import mmap\n",
    "from tqdm.notebook import tqdm\n",
    "# multiprocess is fork of multiprocessing lib that works in iPython \n",
    "import multiprocess\n",
    "import struct \n",
    "import os\n",
    "\n",
    "\n",
    "def worker(worker_id, file_path, offset, chunk_size, result_queue):\n",
    "    with open(file_path, 'rb') as f:\n",
    "        mm = mmap.mmap(f.fileno(), 0, access=mmap.ACCESS_READ)\n",
    "\n",
    "        mm.seek(offset)\n",
    "\n",
    "        data = mm.read(chunk_size)\n",
    "\n",
    "        overall_sum = 0\n",
    "        overall_max = -1\n",
    "        overall_min = 2**32\n",
    "\n",
    "        for i in range(0, len(data), 4):\n",
    "            if i+4 <= len(data):\n",
    "                number = struct.unpack('>I', data[i:i+4])[0]\n",
    "                \n",
    "                overall_sum += number\n",
    "                overall_max = max(overall_max, number)\n",
    "                overall_min = min(overall_min, number)\n",
    "\n",
    "    result_queue.put((overall_sum, overall_max, overall_min))\n",
    "\n",
    "\n",
    "def parallel_reading(file_path, num_workers, n):\n",
    "    file_size = n * 4\n",
    "    chunk_size = file_size // num_workers\n",
    "\n",
    "    result_queue = multiprocess.Queue()\n",
    "\n",
    "    processes = []\n",
    "    for i in range(num_workers):\n",
    "        offset = i * chunk_size\n",
    "\n",
    "        p = multiprocess.Process(target=worker, args=(i, file_path, offset, chunk_size, result_queue))\n",
    "\n",
    "        processes.append(p)\n",
    "        p.start()\n",
    "\n",
    "    # All gather\n",
    "    overall_sum = 0\n",
    "    overall_max = -1\n",
    "    overall_min = 2**32\n",
    "\n",
    "    for _ in range(num_workers):\n",
    "        curr_sum, curr_max, curr_min = result_queue.get()\n",
    "        \n",
    "        overall_sum += curr_sum\n",
    "        overall_max = max(overall_max, curr_max)\n",
    "        overall_min = min(overall_min, curr_min)\n",
    "\n",
    "    return overall_sum, overall_max, overall_min\n",
    "\n",
    "global n \n",
    "n = 536870912\n",
    "overall_sum, overall_max, overall_min = parallel_reading('./numbers', 10, n)"
   ]
  },
  {
   "cell_type": "code",
   "execution_count": 10,
   "id": "afe89974-a5a5-40f3-85ab-d7baa76ddb06",
   "metadata": {},
   "outputs": [
    {
     "name": "stdout",
     "output_type": "stream",
     "text": [
      "1152955609071586490 4294967295 5\n"
     ]
    }
   ],
   "source": [
    "print(overall_sum, overall_max, overall_min)"
   ]
  },
  {
   "cell_type": "markdown",
   "id": "3e8a2f72-3a44-485c-9d27-9addde2f9b3f",
   "metadata": {},
   "source": [
    "Как можно заметить, результаты совпадают полностью, а при использовании 10 воркеров время рассчетов уменьшается в 8.7 раз\n",
    "\n",
    "Рассмотрим зависимость времени исполнения от количества воркеров"
   ]
  },
  {
   "cell_type": "code",
   "execution_count": null,
   "id": "9549d7ed-7973-4e35-91e2-3e657a9d853a",
   "metadata": {
    "scrolled": true
   },
   "outputs": [],
   "source": [
    "import time\n",
    "data = {}\n",
    "for num_workers in range(1, 25):\n",
    "    t1 = time.time()\n",
    "    parallel_reading('./numbers', num_workers, n)\n",
    "    t2 = time.time()\n",
    "\n",
    "    data[num_workers] = t2 - t1\n"
   ]
  },
  {
   "cell_type": "code",
   "execution_count": 30,
   "id": "949a793b-5df1-4340-932c-fb82cc47483f",
   "metadata": {},
   "outputs": [
    {
     "data": {
      "text/plain": [
       "Text(0, 0.5, 'Time (sec)')"
      ]
     },
     "execution_count": 30,
     "metadata": {},
     "output_type": "execute_result"
    },
    {
     "data": {
      "image/png": "[encoded data removed]",
      "text/plain": [
       "<Figure size 640x480 with 1 Axes>"
      ]
     },
     "metadata": {},
     "output_type": "display_data"
    }
   ],
   "source": [
    "import matplotlib.pyplot as plt\n",
    "\n",
    "x = range(2, 25)\n",
    "plt.plot(x, [data[pt] for pt in x])\n",
    "plt.scatter(x, [data[pt] for pt in x])\n",
    "\n",
    "plt.xlabel('Num workers')\n",
    "plt.ylabel('Time (sec)')"
   ]
  },
  {
   "cell_type": "markdown",
   "id": "1777a707-3d5a-4692-a816-737024e2cb1e",
   "metadata": {},
   "source": [
    "Из графика видно, что после дохода числа воркеров до 10 скорость выполнения замедляется, а иногда вообще увеличивается\n",
    "\n",
    "Объяснение тому - количество реальных ядер процессора на машине, на которой выполнялись рассчеты.\n",
    "\n",
    "Так как m1 Pro обладает 10 ядрами, ускорить выполнение процесса увеличением воркеров сверх 10 не получится с архитектурной точки зрения"
   ]
  },
  {
   "cell_type": "code",
   "execution_count": null,
   "id": "9fe459ab-cc0b-4943-bd13-9f4be18cb468",
   "metadata": {},
   "outputs": [],
   "source": []
  }
 ],
 "metadata": {
  "kernelspec": {
   "display_name": "Python 3 (ipykernel)",
   "language": "python",
   "name": "python3"
  },
  "language_info": {
   "codemirror_mode": {
    "name": "ipython",
    "version": 3
   },
   "file_extension": ".py",
   "mimetype": "text/x-python",
   "name": "python",
   "nbconvert_exporter": "python",
   "pygments_lexer": "ipython3",
   "version": "3.11.7"
  }
 },
 "nbformat": 4,
 "nbformat_minor": 5
}
