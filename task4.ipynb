{
 "cells": [
  {
   "attachments": {},
   "cell_type": "markdown",
   "metadata": {},
   "source": [
    "# Задание 4.\n",
    "\n",
    "Загрузите [данные по изменению температуры поверхности земли](https://www.kaggle.com/datasets/berkeleyearth/climate-change-earth-surface-temperature-data). Для этого может понадобится зарегистрироваться на [Kaggle](https://kaggle.com). Затем нужно будет работать с данными, которые содержатся в файле **GlobalLandTemperaturesByMajorCity.csv**\n",
    "\n",
    "**NB** Все подсчеты необходимо делать с помощью `PySpark`, без применения `pandas api`. Можно использоать `SQL`."
   ]
  },
  {
   "cell_type": "code",
   "execution_count": 3,
   "metadata": {},
   "outputs": [
    {
     "data": {
      "text/plain": [
       "[Row(date=datetime.date(1743, 11, 1), AverageTemperature=6.067999839782715, AverageTemperatureUncertainty=1.7369999885559082, City='Århus', Country='Denmark', Latitude='57.05N', Longitude='10.33E'),\n",
       " Row(date=datetime.date(1743, 12, 1), AverageTemperature=None, AverageTemperatureUncertainty=None, City='Århus', Country='Denmark', Latitude='57.05N', Longitude='10.33E'),\n",
       " Row(date=datetime.date(1744, 1, 1), AverageTemperature=None, AverageTemperatureUncertainty=None, City='Århus', Country='Denmark', Latitude='57.05N', Longitude='10.33E'),\n",
       " Row(date=datetime.date(1744, 2, 1), AverageTemperature=None, AverageTemperatureUncertainty=None, City='Århus', Country='Denmark', Latitude='57.05N', Longitude='10.33E'),\n",
       " Row(date=datetime.date(1744, 3, 1), AverageTemperature=None, AverageTemperatureUncertainty=None, City='Århus', Country='Denmark', Latitude='57.05N', Longitude='10.33E'),\n",
       " Row(date=datetime.date(1744, 4, 1), AverageTemperature=5.788000106811523, AverageTemperatureUncertainty=3.624000072479248, City='Århus', Country='Denmark', Latitude='57.05N', Longitude='10.33E'),\n",
       " Row(date=datetime.date(1744, 5, 1), AverageTemperature=10.644000053405762, AverageTemperatureUncertainty=1.2829999923706055, City='Århus', Country='Denmark', Latitude='57.05N', Longitude='10.33E'),\n",
       " Row(date=datetime.date(1744, 6, 1), AverageTemperature=14.050999641418457, AverageTemperatureUncertainty=1.347000002861023, City='Århus', Country='Denmark', Latitude='57.05N', Longitude='10.33E'),\n",
       " Row(date=datetime.date(1744, 7, 1), AverageTemperature=16.082000732421875, AverageTemperatureUncertainty=1.3960000276565552, City='Århus', Country='Denmark', Latitude='57.05N', Longitude='10.33E'),\n",
       " Row(date=datetime.date(1744, 8, 1), AverageTemperature=None, AverageTemperatureUncertainty=None, City='Århus', Country='Denmark', Latitude='57.05N', Longitude='10.33E')]"
      ]
     },
     "execution_count": 3,
     "metadata": {},
     "output_type": "execute_result"
    }
   ],
   "source": [
    "from pyspark.sql.types import StructType, StructField, StringType, DateType, FloatType\n",
    "import pyspark\n",
    "from pyspark.sql import SparkSession\n",
    "\n",
    "spark = SparkSession.builder.master(\"local[1]\").appName(\"SparkByExamples.com\").getOrCreate()\n",
    "\n",
    "spark.sparkContext.setLogLevel(\"ERROR\")\n",
    "\n",
    "schema = StructType([\n",
    "    StructField(\"date\", DateType(), True),\n",
    "    StructField(\"AverageTemperature\", FloatType(), True),\n",
    "    StructField(\"AverageTemperatureUncertainty\", FloatType(), True),\n",
    "    StructField(\"City\", StringType(), True),\n",
    "    StructField(\"Country\", StringType(), True),\n",
    "    StructField(\"Latitude\", StringType(), True),\n",
    "    StructField(\"Longitude\", StringType(), True)])\n",
    "\n",
    "\n",
    "data = spark\\\n",
    "    .read\\\n",
    "    .option(\"delimiter\", \",\")\\\n",
    "    .option(\"header\",\"true\")\\\n",
    "    .csv('./GlobalLandTemperaturesByCity.csv', schema=schema)\n",
    "\n",
    "\n",
    "data.take(10)"
   ]
  },
  {
   "cell_type": "markdown",
   "metadata": {},
   "source": [
    "# Задание 4.1 (1 балл)\n",
    "\n",
    "В последующих заданиях будут учитываться данные начиная с 01.01.1950. Для этого создайте новый `DataFrame`, в котором удалены все строки до 01.01.1950. Используйте созданный DataFrame в последующих заданиях.  "
   ]
  },
  {
   "cell_type": "code",
   "execution_count": 4,
   "metadata": {},
   "outputs": [
    {
     "data": {
      "text/plain": [
       "[Row(date=datetime.date(1950, 1, 1), AverageTemperature=-0.7120000123977661, AverageTemperatureUncertainty=0.2800000011920929, City='Århus', Country='Denmark', Latitude='57.05N', Longitude='10.33E'),\n",
       " Row(date=datetime.date(1950, 2, 1), AverageTemperature=1.4229999780654907, AverageTemperatureUncertainty=0.21799999475479126, City='Århus', Country='Denmark', Latitude='57.05N', Longitude='10.33E'),\n",
       " Row(date=datetime.date(1950, 3, 1), AverageTemperature=4.165999889373779, AverageTemperatureUncertainty=0.26600000262260437, City='Århus', Country='Denmark', Latitude='57.05N', Longitude='10.33E'),\n",
       " Row(date=datetime.date(1950, 4, 1), AverageTemperature=6.743000030517578, AverageTemperatureUncertainty=0.3100000023841858, City='Århus', Country='Denmark', Latitude='57.05N', Longitude='10.33E'),\n",
       " Row(date=datetime.date(1950, 5, 1), AverageTemperature=12.71399974822998, AverageTemperatureUncertainty=0.2460000067949295, City='Århus', Country='Denmark', Latitude='57.05N', Longitude='10.33E')]"
      ]
     },
     "execution_count": 4,
     "metadata": {},
     "output_type": "execute_result"
    }
   ],
   "source": [
    "from pyspark.sql.functions import *\n",
    "\n",
    "data = data.where(data.date >= lit(\"1950-01-01\"))\n",
    "\n",
    "data.take(5)"
   ]
  },
  {
   "cell_type": "markdown",
   "metadata": {},
   "source": [
    "# Задание 4.2 (2 балла)\n",
    "\n",
    "Найдите город, для которого выборочная дисперсия температур на приведенных данных максимальна. "
   ]
  },
  {
   "cell_type": "code",
   "execution_count": 5,
   "metadata": {},
   "outputs": [
    {
     "name": "stderr",
     "output_type": "stream",
     "text": [
      "                                                                                \r"
     ]
    },
    {
     "data": {
      "text/plain": [
       "5.181000232696533"
      ]
     },
     "execution_count": 5,
     "metadata": {},
     "output_type": "execute_result"
    }
   ],
   "source": [
    "max_unc = data.select(max(data.AverageTemperatureUncertainty).alias('max')).take(1)[0]['max']\n",
    "max_unc"
   ]
  },
  {
   "cell_type": "code",
   "execution_count": 6,
   "metadata": {},
   "outputs": [
    {
     "name": "stderr",
     "output_type": "stream",
     "text": [
      "                                                                                \r"
     ]
    },
    {
     "data": {
      "text/plain": [
       "[Row(date=datetime.date(2012, 12, 1), AverageTemperature=-22.714000701904297, AverageTemperatureUncertainty=5.181000232696533, City='Seversk', Country='Russia', Latitude='57.05N', Longitude='84.10E')]"
      ]
     },
     "execution_count": 6,
     "metadata": {},
     "output_type": "execute_result"
    }
   ],
   "source": [
    "max_unc_row = data.filter(data.AverageTemperatureUncertainty == max_unc).take(1)\n",
    "max_unc_row"
   ]
  },
  {
   "cell_type": "code",
   "execution_count": 7,
   "metadata": {},
   "outputs": [
    {
     "data": {
      "text/plain": [
       "'Seversk'"
      ]
     },
     "execution_count": 7,
     "metadata": {},
     "output_type": "execute_result"
    }
   ],
   "source": [
    "max_unc_row[0]['City']"
   ]
  },
  {
   "cell_type": "markdown",
   "metadata": {},
   "source": [
    "# Задание 4.3 (2 баллов)\n",
    "\n",
    "Посчитайте данные по среднегодовой температуре в Санкт-Петербурге. Определите года, в которых средняя температура была выше, чем в предыдущем  и последующем году. "
   ]
  },
  {
   "cell_type": "code",
   "execution_count": 8,
   "metadata": {},
   "outputs": [
    {
     "name": "stderr",
     "output_type": "stream",
     "text": [
      "                                                                                \r"
     ]
    },
    {
     "data": {
      "text/plain": [
       "[Row(date=datetime.date(1950, 1, 1), AverageTemperature=-13.053000450134277, AverageTemperatureUncertainty=0.6650000214576721, City='Saint Petersburg', Country='Russia', Latitude='60.27N', Longitude='29.19E'),\n",
       " Row(date=datetime.date(1950, 2, 1), AverageTemperature=-5.828999996185303, AverageTemperatureUncertainty=0.2549999952316284, City='Saint Petersburg', Country='Russia', Latitude='60.27N', Longitude='29.19E'),\n",
       " Row(date=datetime.date(1950, 3, 1), AverageTemperature=-2.812000036239624, AverageTemperatureUncertainty=0.39800000190734863, City='Saint Petersburg', Country='Russia', Latitude='60.27N', Longitude='29.19E')]"
      ]
     },
     "execution_count": 8,
     "metadata": {},
     "output_type": "execute_result"
    }
   ],
   "source": [
    "spb = data.filter(data.City == 'Saint Petersburg')\n",
    "spb.take(3)"
   ]
  },
  {
   "cell_type": "code",
   "execution_count": 15,
   "metadata": {},
   "outputs": [
    {
     "name": "stderr",
     "output_type": "stream",
     "text": [
      "                                                                                \r"
     ]
    },
    {
     "data": {
      "text/plain": [
       "[Row(date=datetime.date(1950, 1, 1), AverageTemperature=-13.053000450134277, AverageTemperatureUncertainty=0.6650000214576721, City='Saint Petersburg', Country='Russia', Latitude='60.27N', Longitude='29.19E', year=1950),\n",
       " Row(date=datetime.date(1950, 2, 1), AverageTemperature=-5.828999996185303, AverageTemperatureUncertainty=0.2549999952316284, City='Saint Petersburg', Country='Russia', Latitude='60.27N', Longitude='29.19E', year=1950)]"
      ]
     },
     "execution_count": 15,
     "metadata": {},
     "output_type": "execute_result"
    }
   ],
   "source": [
    "spb = spb.withColumn('year', year(spb['date']))\n",
    "spb.take(2)"
   ]
  },
  {
   "cell_type": "code",
   "execution_count": 38,
   "metadata": {},
   "outputs": [
    {
     "name": "stderr",
     "output_type": "stream",
     "text": [
      "[Stage 86:===========================================>              (3 + 1) / 4]\r"
     ]
    },
    {
     "name": "stdout",
     "output_type": "stream",
     "text": [
      "+----+------------------+------------------+------------------+\n",
      "|year|         mean_temp|         next_year|         prev_year|\n",
      "+----+------------------+------------------+------------------+\n",
      "|1953|13.636541654666265|13.202666802021364|12.903041779994965|\n",
      "|1957| 13.73249996205171|12.398666789134344|12.292041632036367|\n",
      "|1959|13.694666539629301|12.905833464115858|12.398666789134344|\n",
      "|1961|14.023750064273676|13.002583354711533|12.905833464115858|\n",
      "|1964|13.280166772504648|12.992083241542181|12.564458345373472|\n",
      "|1967|13.436208200951418|12.361124955117702|12.236166739215454|\n",
      "|1972|13.954541698098183| 13.31808334092299|13.243916774789492|\n",
      "|1975|  14.4162916050603| 12.06716671337684|14.130666647106409|\n",
      "|1977|12.816458304723104| 12.33083330343167| 12.06716671337684|\n",
      "|1979|13.079250040153662|12.851041793823242| 12.33083330343167|\n",
      "|1982|13.757541552186012|13.488666544357935|  13.0456249093016|\n",
      "|1984|  13.4956249371171|12.624125062177578|13.488666544357935|\n",
      "|1986|13.421125123898188|12.140208333730698|12.624125062177578|\n",
      "|1989|14.610333413424087|14.528458291043838|13.390666743119558|\n",
      "|1995|13.929166741130757| 12.97849994401137|13.664583502958218|\n",
      "|2000|14.281625026836991|13.753458316127459|14.057333327829838|\n",
      "|2002|13.922499944766363|13.693916651109854|13.753458316127459|\n",
      "|2008|14.470125015825033|13.961166659990946|14.464583423609534|\n",
      "|2011|14.538541773955027|13.926166589061419|12.923083308463296|\n",
      "+----+------------------+------------------+------------------+\n",
      "\n"
     ]
    },
    {
     "name": "stderr",
     "output_type": "stream",
     "text": [
      "                                                                                \r"
     ]
    }
   ],
   "source": [
    "from pyspark.sql.window import Window\n",
    "\n",
    "windowSpec  = Window.orderBy(\"year\")\n",
    "\n",
    "spb.groupBy('year')\\\n",
    "    .agg(mean('AverageTemperature').alias('mean_temp'))\\\n",
    "    .withColumn('next_year', lead('mean_temp').over(windowSpec)) \\\n",
    "    .withColumn('prev_year', lag('mean_temp').over(windowSpec)) \\\n",
    "    .dropna() \\\n",
    "    .filter((col('mean_temp') > col('next_year')) & (col('mean_temp') > col('prev_year'))) \\\n",
    "    .show()\n"
   ]
  },
  {
   "cell_type": "markdown",
   "metadata": {},
   "source": [
    "# Задание 4.4 (4 балла)\n",
    "\n",
    "Найдите города, для которых: \n",
    "1. Разница между максимальным и минимальным значением среднегодовой температуры в выборке максимальна.\n",
    "2. Самая большая средняя разница между средней температурой января и средней температурой июля.\n",
    "3. Наибольшее среднее количество месяцев с отрицательной температурой в году."
   ]
  },
  {
   "cell_type": "code",
   "execution_count": 51,
   "metadata": {},
   "outputs": [
    {
     "name": "stderr",
     "output_type": "stream",
     "text": [
      "                                                                                \r"
     ]
    },
    {
     "data": {
      "text/plain": [
       "[Row(City='Norilsk', max_temp=-7.456666747728984, min_temp=-14.705333267649015, diff=7.2486665199200315)]"
      ]
     },
     "execution_count": 51,
     "metadata": {},
     "output_type": "execute_result"
    }
   ],
   "source": [
    "# 1. Разница между максимальным и минимальным значением среднегодовой температуры в выборке максимальна.\n",
    "\n",
    "data.withColumn('year', year('date')) \\\n",
    "    .groupBy('year', 'City') \\\n",
    "    .agg(mean('AverageTemperature').alias('mean_temp')) \\\n",
    "    .groupBy('City')\\\n",
    "    .agg(max('mean_temp').alias('max_temp'),\n",
    "         min('mean_temp').alias('min_temp')) \\\n",
    "    .withColumn('diff', col('max_temp') - col('min_temp')).sort(col('diff').desc()).take(1)"
   ]
  },
  {
   "cell_type": "code",
   "execution_count": 65,
   "metadata": {},
   "outputs": [
    {
     "name": "stderr",
     "output_type": "stream",
     "text": [
      "                                                                                \r"
     ]
    },
    {
     "data": {
      "text/plain": [
       "[Row(City='Blagoveshchensk', jul_temp=21.186390727758408, City='Blagoveshchensk', jan_temp=-24.53853130340576, diff=45.72492203116417)]"
      ]
     },
     "execution_count": 65,
     "metadata": {},
     "output_type": "execute_result"
    }
   ],
   "source": [
    "# 2. Самая большая средняя разница между средней температурой января и средней температурой июля.\n",
    "mean_months = data.withColumn('month', month('date')) \\\n",
    "    .groupBy('City', 'month')\\\n",
    "    .agg(mean('AverageTemperature').alias('mean_temp')) \\\n",
    "\n",
    "january = mean_months.filter(col('month')==1) \\\n",
    "    .withColumnRenamed('mean_temp', 'jan_temp').select('City', 'jan_temp')\n",
    "\n",
    "july = mean_months.filter(col('month')==7)\\\n",
    "    .withColumnRenamed('mean_temp', 'jul_temp').select('City', 'jul_temp')\n",
    "\n",
    "july.join(january, july.City == january.City, 'inner')\\\n",
    "    .withColumn('diff', abs(col('jan_temp') - col('jul_temp'))).sort(col('diff').desc()).take(1)"
   ]
  },
  {
   "cell_type": "code",
   "execution_count": 64,
   "metadata": {},
   "outputs": [
    {
     "name": "stderr",
     "output_type": "stream",
     "text": [
      "                                                                                \r"
     ]
    },
    {
     "data": {
      "text/plain": [
       "[Row(City='Norilsk', mean_neg_months=8.0625)]"
      ]
     },
     "execution_count": 64,
     "metadata": {},
     "output_type": "execute_result"
    }
   ],
   "source": [
    "# 3. Наибольшее среднее количество месяцев с отрицательной температурой в году.\n",
    "\n",
    "data.filter(col('AverageTemperature') < 0)\\\n",
    "    .withColumn('year', year(col('date'))) \\\n",
    "    .groupBy('City', 'year') \\\n",
    "    .agg(count('AverageTemperature').alias('neg_months')) \\\n",
    "    .groupBy('City') \\\n",
    "    .agg(mean('neg_months').alias('mean_neg_months')) \\\n",
    "    .sort(col('mean_neg_months').desc()).take(1)"
   ]
  },
  {
   "cell_type": "code",
   "execution_count": null,
   "metadata": {},
   "outputs": [],
   "source": []
  }
 ],
 "metadata": {
  "kernelspec": {
   "display_name": "Python 3 (ipykernel)",
   "language": "python",
   "name": "python3"
  },
  "language_info": {
   "codemirror_mode": {
    "name": "ipython",
    "version": 3
   },
   "file_extension": ".py",
   "mimetype": "text/x-python",
   "name": "python",
   "nbconvert_exporter": "python",
   "pygments_lexer": "ipython3",
   "version": "3.11.7"
  },
  "vscode": {
   "interpreter": {
    "hash": "916dbcbb3f70747c44a77c7bcd40155683ae19c65e1c03b4aa3499c5328201f1"
   }
  }
 },
 "nbformat": 4,
 "nbformat_minor": 4
}
