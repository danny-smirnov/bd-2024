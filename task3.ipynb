{
 "cells": [
  {
   "cell_type": "markdown",
   "id": "8d2a3133-fd1c-41c2-b242-4e829c6d01a7",
   "metadata": {},
   "source": [
    "Загрузите файл со статьями статей из Википедии. Каждая строка в файле имеет следующий формат:\n",
    "\n",
    "URL статьи \\<tab> название статьи \\<tab> текст \n",
    "\n",
    "\n",
    "Напишите с помощью PySpark или Ray:\n",
    "\n",
    "1) Напишите программу, которая находит самое длинное слово.\n",
    "2) Напишите программу, которая находит среднюю длину слов.\n",
    "3) Напишите программу, которая находит самое частоупотребляемое слово, состоящее из латинских букв.\n",
    "4) Все слова, которые более чем в половине случаев начинаются с большой буквы и встречаются больше 10 раз.\n",
    "5) Напишите программу, которая с помощью статистики определяет устойчивые сокращения вида пр., др., ...\n",
    "6) Напишите программу, которая с помощью статистики определяет устойчивые сокращения вида т.п., н.э., ...\n",
    "7) Напишите программу, которая с помощью статистики находит имена, употребляющиеся в статьях.\n",
    "\n",
    "Из подзаданий 5-7 достаточно сделать любые два."
   ]
  },
  {
   "cell_type": "markdown",
   "id": "3560a065-2d94-4b40-8779-125d7ff29293",
   "metadata": {},
   "source": [
    "# Загрузка данных"
   ]
  },
  {
   "cell_type": "code",
   "execution_count": 207,
   "id": "8b6a2d4b-a44a-44c9-be4d-435bc12e1bc7",
   "metadata": {},
   "outputs": [
    {
     "name": "stdout",
     "output_type": "stream",
     "text": [
      "Requirement already satisfied: findspark in /Library/Frameworks/Python.framework/Versions/3.11/lib/python3.11/site-packages (2.0.1)\n",
      "\n",
      "\u001b[1m[\u001b[0m\u001b[34;49mnotice\u001b[0m\u001b[1;39;49m]\u001b[0m\u001b[39;49m A new release of pip is available: \u001b[0m\u001b[31;49m23.2.1\u001b[0m\u001b[39;49m -> \u001b[0m\u001b[32;49m24.1.1\u001b[0m\n",
      "\u001b[1m[\u001b[0m\u001b[34;49mnotice\u001b[0m\u001b[1;39;49m]\u001b[0m\u001b[39;49m To update, run: \u001b[0m\u001b[32;49mpip3 install --upgrade pip\u001b[0m\n"
     ]
    }
   ],
   "source": [
    "!pip3 install findspark\n"
   ]
  },
  {
   "cell_type": "code",
   "execution_count": 1,
   "id": "3ab35891-63d6-4420-b275-f8dafcf87b15",
   "metadata": {},
   "outputs": [],
   "source": [
    "import findspark\n",
    "findspark.init()"
   ]
  },
  {
   "cell_type": "code",
   "execution_count": 2,
   "id": "339dcc58-7145-4856-879e-a518d41dd2f5",
   "metadata": {},
   "outputs": [
    {
     "name": "stderr",
     "output_type": "stream",
     "text": [
      "Setting default log level to \"WARN\".\n",
      "To adjust logging level use sc.setLogLevel(newLevel). For SparkR, use setLogLevel(newLevel).\n",
      "24/07/03 11:05:27 WARN NativeCodeLoader: Unable to load native-hadoop library for your platform... using builtin-java classes where applicable\n"
     ]
    }
   ],
   "source": [
    "import pyspark\n",
    "from pyspark.sql import SparkSession\n",
    "\n",
    "spark = SparkSession.builder.master(\"local[1]\").appName(\"SparkByExamples.com\").getOrCreate()"
   ]
  },
  {
   "cell_type": "code",
   "execution_count": 98,
   "id": "7945938a-5db9-48f4-8f6e-a8025d10d285",
   "metadata": {},
   "outputs": [
    {
     "data": {
      "text/plain": [
       "'http://ru.wikipedia.org/wiki?curid=7\\tЛитва\\tЛитва  Литва́ (), официальное название\\xa0— Лито́вская Респу́блика ()\\xa0— государство, географически расположенное в Северной Европе, по культурным критериям её относят к Центральной Европе. Столица Литвы\\xa0— Вильнюс. Расположена на восточном побережье Балтийского моря. На севере граничит с Латвией, на юго-востоке\\xa0— с Белоруссией, на юго-западе\\xa0— c Польшей и Калининградской областью России. Член ООН с 1991 года, ЕС и НАТО\\xa0— с 2004 года. Входит в Шенгенскую зон'"
      ]
     },
     "execution_count": 98,
     "metadata": {},
     "output_type": "execute_result"
    }
   ],
   "source": [
    "from pyspark.sql.types import StructType, StructField, StringType, IntegerType\n",
    "\n",
    "schema = StructType([\n",
    "    StructField(\"text\", StringType(), True)])\n",
    "    \n",
    "data = spark.\\\n",
    "    read.\\\n",
    "    option(\"delimiter\", \"\\n\").\\\n",
    "    option(\"encoding\", \"utf-8\").\\\n",
    "    csv('wiki.txt', schema=schema)\n",
    "\n",
    "data.take(1)[0]['text'][:500]\n",
    "# data.select(split(data.s, '[\\t]', -1).alias('s')).collect()"
   ]
  },
  {
   "cell_type": "markdown",
   "id": "eddded32-4517-4eb5-8a31-5229f701af1e",
   "metadata": {},
   "source": [
    "# Data preprocessing"
   ]
  },
  {
   "cell_type": "code",
   "execution_count": 99,
   "id": "6e907f7b-feed-4a21-83d7-0ad3cb0a40ea",
   "metadata": {},
   "outputs": [
    {
     "data": {
      "text/plain": [
       "'http://ru.wikipedia.org/wiki?curid=7\\tЛитва\\tЛитва  Литва́ (), официальное название — Лито́вская Респу́блика () — государство, географически расположенное в Северной Европе, по культурным критериям её относят к Центральной Европе. Столица Литвы — Вильнюс. Расположена на восточном побережье Балтийского моря. На севере граничит с Латвией, на юго-востоке — с Белоруссией, на юго-западе — c Польшей и Калининградской областью России. Член ООН с 1991 года, ЕС и НАТО — с 2004 года. Входит в Шенгенскую зон'"
      ]
     },
     "execution_count": 99,
     "metadata": {},
     "output_type": "execute_result"
    }
   ],
   "source": [
    "from pyspark.sql.functions import *\n",
    "data = data.withColumn('text', regexp_replace('text', '\\xa0', ' '))\n",
    "\n",
    "data.take(1)[0]['text'][:500]\n"
   ]
  },
  {
   "cell_type": "code",
   "execution_count": 100,
   "id": "34585afa-d59c-45e7-a3f9-44a6a4adfeec",
   "metadata": {},
   "outputs": [
    {
     "data": {
      "text/plain": [
       "'Литва  Литва́ (), официальное название — Лито́вская Респу́блика () — государство, географически расположенное в Северной Европе, по культурным критериям её относят к Центральной Европе. Столица Литвы — Вильнюс. Расположена на восточном побережье Балтийского моря. На севере граничит с Латвией, на юго-востоке — с Белоруссией, на юго-западе — c Польшей и Калининградской областью России. Член ООН с 1991 года, ЕС и НАТО — с 2004 года. Входит в Шенгенскую зону. Поверхность — равнинная со следами древн'"
      ]
     },
     "execution_count": 100,
     "metadata": {},
     "output_type": "execute_result"
    }
   ],
   "source": [
    "# removing url and header\n",
    "from pyspark.sql.functions import col, udf\n",
    "from pyspark.sql.types import StringType\n",
    "\n",
    "\n",
    "get_text_udf = udf(lambda x:\" \".join(x.split('\\t')[2:]),StringType()) \n",
    "data = data.withColumn(\"text\", get_text_udf(col(\"text\")))\n",
    "\n",
    "data.take(1)[0]['text'][:500]\n"
   ]
  },
  {
   "cell_type": "code",
   "execution_count": 101,
   "id": "ea1e931c-968b-4c6c-bcdd-8e547de8e590",
   "metadata": {},
   "outputs": [
    {
     "data": {
      "text/plain": [
       "'Литва  Литва (), официальное название — Литовская Республика () — государство, географически расположенное в Северной Европе, по культурным критериям её относят к Центральной Европе. Столица Литвы — Вильнюс. Расположена на восточном побережье Балтийского моря. На севере граничит с Латвией, на юго-востоке — с Белоруссией, на юго-западе — c Польшей и Калининградской областью России. Член ООН с 1991 года, ЕС и НАТО — с 2004 года. Входит в Шенгенскую зону. Поверхность — равнинная со следами древнего'"
      ]
     },
     "execution_count": 101,
     "metadata": {},
     "output_type": "execute_result"
    }
   ],
   "source": [
    "# Replace stressed signs\n",
    "\n",
    "replacer = { \"а́\" : \"а\", \"е́\" : \"е\", \"о́\" : \"о\", \"у́\" : \"у\",\n",
    "      \"я́\" : \"я\", \"ю́\" : \"ю\", \"ы́\" : \"ы\", \"и́\" : \"и\",\n",
    "      \"ё́\" : \"ё\", \"А́\" : \"А\", \"Е́\" : \"Е\", \"О́\" : \"О\",\n",
    "      \"У́\" : \"У\", \"Я́\" : \"Я\", \"Ю́\" : \"Ю\", \"Ы́\" : \"Ы\",\n",
    "      \"И́\" : \"И\", \"Э́\" : \"Э\", \"э́\" : \"э\"}\n",
    "\n",
    "for letter in repalcer:\n",
    "    data = data.select(regexp_replace(col(\"text\"), letter, replacer[letter]).alias('text'))\n",
    "\n",
    "data.take(1)[0]['text'][:500]\n"
   ]
  },
  {
   "cell_type": "code",
   "execution_count": 102,
   "id": "113974a8-6e47-4d62-add0-57a45d200c15",
   "metadata": {},
   "outputs": [
    {
     "data": {
      "text/plain": [
       "'Литва  Литва (), официальное название — Литовская Республика () — государство, географически расположенное в Северной Европе, по культурным критериям её относят к Центральной Европе. Столица Литвы — Вильнюс. Расположена на восточном побережье Балтийского моря. На севере граничит с Латвией, на юго-востоке — с Белоруссией, на юго-западе — c Польшей и Калининградской областью России. Член ООН с 1991 года, ЕС и НАТО — с 2004 года. Входит в Шенгенскую зону. Поверхность — равнинная со следами древнего'"
      ]
     },
     "execution_count": 102,
     "metadata": {},
     "output_type": "execute_result"
    }
   ],
   "source": [
    "data = data.select(regexp_replace(col(\"text\"), r'http\\S+', \"\").alias('text'))\n",
    "data.take(1)[0]['text'][:500]\n"
   ]
  },
  {
   "cell_type": "code",
   "execution_count": 103,
   "id": "ef5ef6c2-820e-409c-a023-935a898d27ed",
   "metadata": {},
   "outputs": [
    {
     "data": {
      "text/plain": [
       "'Литва  Литва     официальное название   Литовская Республика      государство  географически расположенное в Северной Европе  по культурным критериям е  относят к Центральной Европе  Столица Литвы   Вильнюс  Расположена на восточном побережье Балтийского моря  На севере граничит с Латвией  на юго востоке   с Белоруссией  на юго западе   c Польшей и Калининградской областью России  Член ООН с      года  ЕС и НАТО   с      года  Входит в Шенгенскую зону  Поверхность   равнинная со следами древнего'"
      ]
     },
     "execution_count": 103,
     "metadata": {},
     "output_type": "execute_result"
    }
   ],
   "source": [
    "data = data.select(regexp_replace(col(\"text\"), r'[^A-Za-zА-Яа-я]', \" \").alias('text'))\n",
    "data.take(1)[0]['text'][:500]\n"
   ]
  },
  {
   "cell_type": "code",
   "execution_count": 104,
   "id": "029ee785-e0c1-4b45-8e62-8d8bb4aa942d",
   "metadata": {},
   "outputs": [
    {
     "data": {
      "text/plain": [
       "'Литва Литва официальное название Литовская Республика государство географически расположенное в Северной Европе по культурным критериям е относят к Центральной Европе Столица Литвы Вильнюс Расположена на восточном побережье Балтийского моря На севере граничит с Латвией на юго востоке с Белоруссией на юго западе c Польшей и Калининградской областью России Член ООН с года ЕС и НАТО с года Входит в Шенгенскую зону Поверхность равнинная со следами древнего оледенения Поля и луга занимают территории '"
      ]
     },
     "execution_count": 104,
     "metadata": {},
     "output_type": "execute_result"
    }
   ],
   "source": [
    "data = data.select(regexp_replace(col(\"text\"), \" +\", \" \").alias('text'))\n",
    "data.take(1)[0]['text'][:500]\n"
   ]
  },
  {
   "cell_type": "code",
   "execution_count": 105,
   "id": "dccb65cd-1125-4113-ae19-6b28c2502355",
   "metadata": {},
   "outputs": [],
   "source": [
    "count_rdd = data.select(\"text\").rdd.flatMap(lambda x: x[0].split(' ')) \\\n",
    "              .map(lambda x: (x, 1)).reduceByKey(lambda x,y: x+y)\n",
    "\n"
   ]
  },
  {
   "cell_type": "code",
   "execution_count": 106,
   "id": "bc1a4361-1650-41d1-a19e-251f4474eb98",
   "metadata": {},
   "outputs": [
    {
     "name": "stderr",
     "output_type": "stream",
     "text": [
      "                                                                                \r"
     ]
    },
    {
     "data": {
      "text/plain": [
       "[Row(word='Литва', count=85)]"
      ]
     },
     "execution_count": 106,
     "metadata": {},
     "output_type": "execute_result"
    }
   ],
   "source": [
    "from pyspark.sql.types import StructType, StructField, StringType, IntegerType\n",
    "\n",
    "counter_schema = StructType([\n",
    "    StructField(\"word\", StringType(), True),\n",
    "    StructField(\"count\", IntegerType(), True)])\n",
    "\n",
    "counter = spark.createDataFrame(count_rdd, schema=counter_schema)\n",
    "\n",
    "counter.take(1)"
   ]
  },
  {
   "cell_type": "markdown",
   "id": "dca80525-177f-4b1e-8843-f557c006d55d",
   "metadata": {},
   "source": [
    "1) Напишите программу, которая находит самое длинное слово."
   ]
  },
  {
   "cell_type": "code",
   "execution_count": 107,
   "id": "8f463385-20b0-4f68-bcf5-9ea1f2edc977",
   "metadata": {},
   "outputs": [
    {
     "data": {
      "text/plain": [
       "[Row(word='Литва', count=85, word_length=5)]"
      ]
     },
     "execution_count": 107,
     "metadata": {},
     "output_type": "execute_result"
    }
   ],
   "source": [
    "counter = counter.withColumn('word_length', length(counter.word))\n",
    "counter.take(1)"
   ]
  },
  {
   "cell_type": "code",
   "execution_count": 108,
   "id": "6fd91354-2813-4bf1-aa79-567e5800785a",
   "metadata": {},
   "outputs": [
    {
     "name": "stderr",
     "output_type": "stream",
     "text": [
      "                                                                                \r"
     ]
    }
   ],
   "source": [
    "max_len = counter.select(max(counter.word_length).alias('max_len')).collect()[0]['max_len']"
   ]
  },
  {
   "cell_type": "code",
   "execution_count": 109,
   "id": "85c6d711-3fb6-4a83-a474-bf721b0581a6",
   "metadata": {},
   "outputs": [
    {
     "name": "stderr",
     "output_type": "stream",
     "text": [
      "                                                                                \r"
     ]
    },
    {
     "data": {
      "text/plain": [
       "[Row(word='dreihundertvierundsechzigtausendachthundertneunzehn', count=1, word_length=51)]"
      ]
     },
     "execution_count": 109,
     "metadata": {},
     "output_type": "execute_result"
    }
   ],
   "source": [
    "counter.filter(counter.word_length == max_len).take(1)"
   ]
  },
  {
   "cell_type": "markdown",
   "id": "7eb30004-1844-431f-8054-f67027d078e5",
   "metadata": {},
   "source": [
    "2) Напишите программу, которая находит среднюю длину слов.\n"
   ]
  },
  {
   "cell_type": "code",
   "execution_count": 110,
   "id": "5a85eb93-b283-4602-b20f-9ffc7c06f18b",
   "metadata": {},
   "outputs": [
    {
     "name": "stderr",
     "output_type": "stream",
     "text": [
      "                                                                                \r"
     ]
    },
    {
     "data": {
      "text/plain": [
       "[Row(avg(word_length)=9.057915954540732)]"
      ]
     },
     "execution_count": 110,
     "metadata": {},
     "output_type": "execute_result"
    }
   ],
   "source": [
    "counter.select(mean(counter.word_length)).collect()"
   ]
  },
  {
   "cell_type": "markdown",
   "id": "3bb3b822-134c-4542-a6a4-56e9e0cc9728",
   "metadata": {},
   "source": [
    "3) Напишите программу, которая находит самое частоупотребляемое слово, состоящее из латинских букв.\n"
   ]
  },
  {
   "cell_type": "code",
   "execution_count": 111,
   "id": "277fad58-6c8a-4d13-99d6-6be44d1abf1a",
   "metadata": {},
   "outputs": [
    {
     "data": {
      "text/plain": [
       "[Row(word='c', count=775, word_length=1),\n",
       " Row(word='X', count=1423, word_length=1),\n",
       " Row(word='XIII', count=944, word_length=4),\n",
       " Row(word='XIV', count=849, word_length=3)]"
      ]
     },
     "execution_count": 111,
     "metadata": {},
     "output_type": "execute_result"
    }
   ],
   "source": [
    "english_word_regex = \"^[a-zA-Z]+$\"\n",
    "\n",
    "english_words = counter.filter(regexp_extract(col(\"word\"), english_word_regex, 0) != \"\")\n",
    "\n",
    "english_words.take(4)"
   ]
  },
  {
   "cell_type": "code",
   "execution_count": 112,
   "id": "9e0bbe4a-53c4-4495-ab3e-2831bc2cd4a5",
   "metadata": {},
   "outputs": [
    {
     "name": "stderr",
     "output_type": "stream",
     "text": [
      "                                                                                \r"
     ]
    }
   ],
   "source": [
    "max_freq = english_words.select(max(english_words['count']).alias('max_freq')).collect()[0]['max_freq']"
   ]
  },
  {
   "cell_type": "code",
   "execution_count": 113,
   "id": "46bacb78-6342-4261-aa3e-d9c79971f43b",
   "metadata": {},
   "outputs": [
    {
     "data": {
      "text/plain": [
       "[Row(word='formula', count=11589, word_length=7)]"
      ]
     },
     "execution_count": 113,
     "metadata": {},
     "output_type": "execute_result"
    }
   ],
   "source": [
    "english_words.filter(english_words['count'] == max_freq).take(1)"
   ]
  },
  {
   "cell_type": "markdown",
   "id": "af433668-523b-487a-ae92-51a4eb7df116",
   "metadata": {},
   "source": [
    "4) Все слова, которые более чем в половине случаев начинаются с большой буквы и встречаются больше 10 раз.\n"
   ]
  },
  {
   "cell_type": "markdown",
   "id": "52a4ebbd-d7ac-428c-9d00-8731cff566b2",
   "metadata": {},
   "source": [
    "Идея:\n",
    "- Разделить слова на две таблицы: с заглавными буквами и с прописными\n",
    "- В таблице с заглавными буквами сделать все слова прописными\n",
    "- При помощи join посчитать долю заглавных относительно всех\n",
    "- Если больше 50% и встречается больше 10 раз - вывести слово"
   ]
  },
  {
   "cell_type": "code",
   "execution_count": 114,
   "id": "e3d1efb7-2c05-4706-bb73-38a1d6deb153",
   "metadata": {},
   "outputs": [
    {
     "data": {
      "text/plain": [
       "[Row(word='Литва', count=85, word_length=5),\n",
       " Row(word='Литовская', count=19, word_length=9),\n",
       " Row(word='Республика', count=696, word_length=10),\n",
       " Row(word='Северной', count=1004, word_length=8),\n",
       " Row(word='Европе', count=1509, word_length=6),\n",
       " Row(word='Центральной', count=488, word_length=11),\n",
       " Row(word='Столица', count=176, word_length=7),\n",
       " Row(word='Литвы', count=251, word_length=5),\n",
       " Row(word='Вильнюс', count=46, word_length=7),\n",
       " Row(word='Расположена', count=29, word_length=11)]"
      ]
     },
     "execution_count": 114,
     "metadata": {},
     "output_type": "execute_result"
    }
   ],
   "source": [
    "capital_regex = \"^([А-ЯA-Z][а-яa-z]+)+$\"\n",
    "\n",
    "big_letters = counter.filter(regexp_extract(col(\"word\"), capital_regex, 0) != \"\")\n",
    "big_letters.take(10)"
   ]
  },
  {
   "cell_type": "code",
   "execution_count": 115,
   "id": "45803c5e-4448-4c40-b569-684ea8a2305e",
   "metadata": {},
   "outputs": [
    {
     "data": {
      "text/plain": [
       "[Row(word='литва', count=85, word_length=5),\n",
       " Row(word='литовская', count=19, word_length=9),\n",
       " Row(word='республика', count=696, word_length=10),\n",
       " Row(word='северной', count=1004, word_length=8),\n",
       " Row(word='европе', count=1509, word_length=6),\n",
       " Row(word='центральной', count=488, word_length=11),\n",
       " Row(word='столица', count=176, word_length=7),\n",
       " Row(word='литвы', count=251, word_length=5),\n",
       " Row(word='вильнюс', count=46, word_length=7),\n",
       " Row(word='расположена', count=29, word_length=11)]"
      ]
     },
     "execution_count": 115,
     "metadata": {},
     "output_type": "execute_result"
    }
   ],
   "source": [
    "big_letters = big_letters.withColumn('word', lower(col('word')))\n",
    "\n",
    "big_letters.take(10)\n",
    "\n"
   ]
  },
  {
   "cell_type": "code",
   "execution_count": 116,
   "id": "1a10f61f-2cc0-497e-b3d3-c2e35d9ed731",
   "metadata": {},
   "outputs": [
    {
     "data": {
      "text/plain": [
       "[Row(word='официальное', count=231, word_length=11),\n",
       " Row(word='название', count=3710, word_length=8),\n",
       " Row(word='государство', count=1201, word_length=11),\n",
       " Row(word='географически', count=30, word_length=13),\n",
       " Row(word='расположенное', count=68, word_length=13),\n",
       " Row(word='в', count=322385, word_length=1),\n",
       " Row(word='по', count=49294, word_length=2),\n",
       " Row(word='культурным', count=118, word_length=10),\n",
       " Row(word='критериям', count=47, word_length=9),\n",
       " Row(word='е', count=12220, word_length=1)]"
      ]
     },
     "execution_count": 116,
     "metadata": {},
     "output_type": "execute_result"
    }
   ],
   "source": [
    "small_regex = \"^([а-яa-z]+)+$\"\n",
    "\n",
    "small_letters = counter.filter(regexp_extract(col(\"word\"), small_regex, 0) != \"\")\n",
    "small_letters.take(10)"
   ]
  },
  {
   "cell_type": "code",
   "execution_count": 117,
   "id": "19900bae-1d72-42f3-9873-8219b9801fb7",
   "metadata": {},
   "outputs": [],
   "source": [
    "big_letters = big_letters.withColumnRenamed(\"word\", \"capital_word\")\\\n",
    "           .withColumnRenamed(\"count\", \"capital_count\")\\\n",
    "           .withColumnRenamed(\"word_length\", \"capital_word_length\")"
   ]
  },
  {
   "cell_type": "code",
   "execution_count": 118,
   "id": "238f7601-e727-466c-9194-396df7e89bf6",
   "metadata": {},
   "outputs": [
    {
     "name": "stderr",
     "output_type": "stream",
     "text": [
      "                                                                                \r"
     ]
    },
    {
     "data": {
      "text/plain": [
       "[Row(word='a', count=900, word_length=1, capital_word=None, capital_count=None, capital_word_length=None)]"
      ]
     },
     "execution_count": 118,
     "metadata": {},
     "output_type": "execute_result"
    }
   ],
   "source": [
    "joined_df = small_letters.join(big_letters, small_letters.word == big_letters.capital_word, \"outer\",)\n",
    "\n",
    "joined_df.take(1)"
   ]
  },
  {
   "cell_type": "code",
   "execution_count": 119,
   "id": "a414250f-2911-4b7e-8734-d0d4d631de7f",
   "metadata": {},
   "outputs": [
    {
     "name": "stderr",
     "output_type": "stream",
     "text": [
      "                                                                                \r"
     ]
    },
    {
     "data": {
      "text/plain": [
       "[Row(word='температура', count=1477, word_length=11, capital_word='температура', capital_count=220, capital_word_length=11),\n",
       " Row(word='вассалами', count=31, word_length=9, capital_word='вассалами', capital_count=2, capital_word_length=9),\n",
       " Row(word='абвер', count=9, word_length=5, capital_word='абвер', capital_count=10, capital_word_length=5)]"
      ]
     },
     "execution_count": 119,
     "metadata": {},
     "output_type": "execute_result"
    }
   ],
   "source": [
    "paired_words = joined_df.where(col(\"word\").isNotNull() & col(\"capital_word\").isNotNull())\n",
    "paired_words.take(3)"
   ]
  },
  {
   "cell_type": "code",
   "execution_count": 120,
   "id": "f4d220fe-5e48-4c7c-bb08-18178328200d",
   "metadata": {},
   "outputs": [
    {
     "name": "stderr",
     "output_type": "stream",
     "text": [
      "                                                                                \r"
     ]
    },
    {
     "data": {
      "text/plain": [
       "[Row(word='всесоюзном', count=10, word_length=10, capital_word='всесоюзном', capital_count=22, capital_word_length=10),\n",
       " Row(word='вяземский', count=1, word_length=9, capital_word='вяземский', capital_count=14, capital_word_length=9),\n",
       " Row(word='бор', count=32, word_length=3, capital_word='бор', capital_count=117, capital_word_length=3),\n",
       " Row(word='киевской', count=22, word_length=8, capital_word='киевской', capital_count=173, capital_word_length=8),\n",
       " Row(word='ганзейского', count=3, word_length=11, capital_word='ганзейского', capital_count=15, capital_word_length=11),\n",
       " Row(word='telnet', count=11, word_length=6, capital_word='telnet', capital_count=21, capital_word_length=6),\n",
       " Row(word='art', count=11, word_length=3, capital_word='art', capital_count=24, capital_word_length=3),\n",
       " Row(word='тувалу', count=14, word_length=6, capital_word='тувалу', capital_count=134, capital_word_length=6),\n",
       " Row(word='мюнхенский', count=1, word_length=10, capital_word='мюнхенский', capital_count=12, capital_word_length=10),\n",
       " Row(word='online', count=8, word_length=6, capital_word='online', capital_count=19, capital_word_length=6)]"
      ]
     },
     "execution_count": 120,
     "metadata": {},
     "output_type": "execute_result"
    }
   ],
   "source": [
    "paired_words.where((col('capital_count') / col('count') > 1) & (col('capital_count') > 10)).take(10)"
   ]
  },
  {
   "cell_type": "code",
   "execution_count": 121,
   "id": "33514113-894e-4059-9d5a-1992d88f7678",
   "metadata": {},
   "outputs": [
    {
     "name": "stderr",
     "output_type": "stream",
     "text": [
      "                                                                                \r"
     ]
    },
    {
     "data": {
      "text/plain": [
       "51477"
      ]
     },
     "execution_count": 121,
     "metadata": {},
     "output_type": "execute_result"
    }
   ],
   "source": [
    "paired_words.count()"
   ]
  }
 ],
 "metadata": {
  "kernelspec": {
   "display_name": "Python 3 (ipykernel)",
   "language": "python",
   "name": "python3"
  },
  "language_info": {
   "codemirror_mode": {
    "name": "ipython",
    "version": 3
   },
   "file_extension": ".py",
   "mimetype": "text/x-python",
   "name": "python",
   "nbconvert_exporter": "python",
   "pygments_lexer": "ipython3",
   "version": "3.11.7"
  }
 },
 "nbformat": 4,
 "nbformat_minor": 5
}
